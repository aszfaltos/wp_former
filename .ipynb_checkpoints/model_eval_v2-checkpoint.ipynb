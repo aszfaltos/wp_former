{
 "cells": [
  {
   "cell_type": "code",
   "execution_count": 8,
   "id": "initial_id",
   "metadata": {
    "collapsed": true,
    "ExecuteTime": {
     "end_time": "2024-09-12T09:52:47.212664300Z",
     "start_time": "2024-09-12T09:52:47.207655100Z"
    }
   },
   "outputs": [],
   "source": [
    "from eval_lib import Evaluator, model_loader\n",
    "from importlib import reload"
   ]
  },
  {
   "cell_type": "code",
   "outputs": [],
   "source": [
    "import eval_lib\n",
    "reload(eval_lib.evaluator)\n",
    "from eval_lib.evaluator import Evaluator"
   ],
   "metadata": {
    "collapsed": false,
    "ExecuteTime": {
     "end_time": "2024-09-12T09:52:49.639163Z",
     "start_time": "2024-09-12T09:52:49.600370100Z"
    }
   },
   "id": "35d5c9c04a3d94f8",
   "execution_count": 9
  },
  {
   "cell_type": "code",
   "outputs": [],
   "source": [
    "epoch = 600\n",
    "\n",
    "evaluator = Evaluator()\n",
    "for i in range(9):\n",
    " evaluator.add_model(f'trained/lstm_large/{i}', epoch, model_loader.load_lstm, i)"
   ],
   "metadata": {
    "collapsed": false,
    "ExecuteTime": {
     "end_time": "2024-09-12T09:53:15.468248700Z",
     "start_time": "2024-09-12T09:53:15.375391Z"
    }
   },
   "id": "25fff7092a4ddcb9",
   "execution_count": 11
  },
  {
   "cell_type": "code",
   "outputs": [
    {
     "data": {
      "text/plain": "        mse      rmse       mae\n0  0.007222  0.084983  0.055999\n1  0.007170  0.084677  0.055083\n2  0.007169  0.084666  0.054790\n3  0.007145  0.084528  0.055068\n4  0.007135  0.084471  0.054671\n5  0.007217  0.084953  0.054522\n6  0.007157  0.084597  0.054908\n7  0.007128  0.084429  0.054262\n8  0.007124  0.084406  0.054171",
      "text/html": "<div>\n<style scoped>\n    .dataframe tbody tr th:only-of-type {\n        vertical-align: middle;\n    }\n\n    .dataframe tbody tr th {\n        vertical-align: top;\n    }\n\n    .dataframe thead th {\n        text-align: right;\n    }\n</style>\n<table border=\"1\" class=\"dataframe\">\n  <thead>\n    <tr style=\"text-align: right;\">\n      <th></th>\n      <th>mse</th>\n      <th>rmse</th>\n      <th>mae</th>\n    </tr>\n  </thead>\n  <tbody>\n    <tr>\n      <th>0</th>\n      <td>0.007222</td>\n      <td>0.084983</td>\n      <td>0.055999</td>\n    </tr>\n    <tr>\n      <th>1</th>\n      <td>0.007170</td>\n      <td>0.084677</td>\n      <td>0.055083</td>\n    </tr>\n    <tr>\n      <th>2</th>\n      <td>0.007169</td>\n      <td>0.084666</td>\n      <td>0.054790</td>\n    </tr>\n    <tr>\n      <th>3</th>\n      <td>0.007145</td>\n      <td>0.084528</td>\n      <td>0.055068</td>\n    </tr>\n    <tr>\n      <th>4</th>\n      <td>0.007135</td>\n      <td>0.084471</td>\n      <td>0.054671</td>\n    </tr>\n    <tr>\n      <th>5</th>\n      <td>0.007217</td>\n      <td>0.084953</td>\n      <td>0.054522</td>\n    </tr>\n    <tr>\n      <th>6</th>\n      <td>0.007157</td>\n      <td>0.084597</td>\n      <td>0.054908</td>\n    </tr>\n    <tr>\n      <th>7</th>\n      <td>0.007128</td>\n      <td>0.084429</td>\n      <td>0.054262</td>\n    </tr>\n    <tr>\n      <th>8</th>\n      <td>0.007124</td>\n      <td>0.084406</td>\n      <td>0.054171</td>\n    </tr>\n  </tbody>\n</table>\n</div>"
     },
     "execution_count": 12,
     "metadata": {},
     "output_type": "execute_result"
    }
   ],
   "source": [
    "evaluator.generate_evaluation_table()"
   ],
   "metadata": {
    "collapsed": false,
    "ExecuteTime": {
     "end_time": "2024-09-12T09:53:17.619638300Z",
     "start_time": "2024-09-12T09:53:17.450068500Z"
    }
   },
   "id": "9b0ab7f7af18bbed",
   "execution_count": 12
  }
 ],
 "metadata": {
  "kernelspec": {
   "display_name": "Python 3",
   "language": "python",
   "name": "python3"
  },
  "language_info": {
   "codemirror_mode": {
    "name": "ipython",
    "version": 2
   },
   "file_extension": ".py",
   "mimetype": "text/x-python",
   "name": "python",
   "nbconvert_exporter": "python",
   "pygments_lexer": "ipython2",
   "version": "2.7.6"
  }
 },
 "nbformat": 4,
 "nbformat_minor": 5
}
